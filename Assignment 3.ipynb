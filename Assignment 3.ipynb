{
 "cells": [
  {
   "cell_type": "markdown",
   "metadata": {},
   "source": [
    "<center><h1><span>WR 304 Assignment 3: Precipitation</span></h1></center>\n",
    "<center><h3><span>Cunningham Creek / Leadville Airport</span></h3></center>\n",
    "<center><h3>Jared Grove</h3></center<br>\n",
    "<center><h3>9 September 2020</h3></center>"
   ]
  },
  {
   "cell_type": "code",
   "execution_count": 2,
   "metadata": {},
   "outputs": [],
   "source": [
    "import pandas as pd\n",
    "import datetime as dt\n",
    "import matplotlib.pyplot as plt\n",
    "import seaborn as sns"
   ]
  },
  {
   "cell_type": "code",
   "execution_count": 3,
   "metadata": {},
   "outputs": [
    {
     "data": {
      "text/html": [
       "<div>\n",
       "<style scoped>\n",
       "    .dataframe tbody tr th:only-of-type {\n",
       "        vertical-align: middle;\n",
       "    }\n",
       "\n",
       "    .dataframe tbody tr th {\n",
       "        vertical-align: top;\n",
       "    }\n",
       "\n",
       "    .dataframe thead th {\n",
       "        text-align: right;\n",
       "    }\n",
       "</style>\n",
       "<table border=\"1\" class=\"dataframe\">\n",
       "  <thead>\n",
       "    <tr style=\"text-align: right;\">\n",
       "      <th></th>\n",
       "      <th>MONTH</th>\n",
       "      <th>PRCP</th>\n",
       "      <th>TAVG</th>\n",
       "    </tr>\n",
       "  </thead>\n",
       "  <tbody>\n",
       "    <tr>\n",
       "      <th>0</th>\n",
       "      <td>September</td>\n",
       "      <td>0.0</td>\n",
       "      <td>10.00</td>\n",
       "    </tr>\n",
       "    <tr>\n",
       "      <th>1</th>\n",
       "      <td>September</td>\n",
       "      <td>0.0</td>\n",
       "      <td>10.55</td>\n",
       "    </tr>\n",
       "    <tr>\n",
       "      <th>2</th>\n",
       "      <td>September</td>\n",
       "      <td>0.0</td>\n",
       "      <td>12.25</td>\n",
       "    </tr>\n",
       "    <tr>\n",
       "      <th>3</th>\n",
       "      <td>September</td>\n",
       "      <td>3.6</td>\n",
       "      <td>9.15</td>\n",
       "    </tr>\n",
       "    <tr>\n",
       "      <th>4</th>\n",
       "      <td>September</td>\n",
       "      <td>5.8</td>\n",
       "      <td>9.45</td>\n",
       "    </tr>\n",
       "    <tr>\n",
       "      <th>...</th>\n",
       "      <td>...</td>\n",
       "      <td>...</td>\n",
       "      <td>...</td>\n",
       "    </tr>\n",
       "    <tr>\n",
       "      <th>360</th>\n",
       "      <td>August</td>\n",
       "      <td>0.8</td>\n",
       "      <td>11.70</td>\n",
       "    </tr>\n",
       "    <tr>\n",
       "      <th>361</th>\n",
       "      <td>August</td>\n",
       "      <td>0.0</td>\n",
       "      <td>10.80</td>\n",
       "    </tr>\n",
       "    <tr>\n",
       "      <th>362</th>\n",
       "      <td>August</td>\n",
       "      <td>0.0</td>\n",
       "      <td>11.40</td>\n",
       "    </tr>\n",
       "    <tr>\n",
       "      <th>363</th>\n",
       "      <td>August</td>\n",
       "      <td>0.0</td>\n",
       "      <td>11.95</td>\n",
       "    </tr>\n",
       "    <tr>\n",
       "      <th>364</th>\n",
       "      <td>August</td>\n",
       "      <td>1.3</td>\n",
       "      <td>11.95</td>\n",
       "    </tr>\n",
       "  </tbody>\n",
       "</table>\n",
       "<p>365 rows × 3 columns</p>\n",
       "</div>"
      ],
      "text/plain": [
       "         MONTH  PRCP   TAVG\n",
       "0    September   0.0  10.00\n",
       "1    September   0.0  10.55\n",
       "2    September   0.0  12.25\n",
       "3    September   3.6   9.15\n",
       "4    September   5.8   9.45\n",
       "..         ...   ...    ...\n",
       "360     August   0.8  11.70\n",
       "361     August   0.0  10.80\n",
       "362     August   0.0  11.40\n",
       "363     August   0.0  11.95\n",
       "364     August   1.3  11.95\n",
       "\n",
       "[365 rows x 3 columns]"
      ]
     },
     "execution_count": 3,
     "metadata": {},
     "output_type": "execute_result"
    }
   ],
   "source": [
    "# reads data file\n",
    "df = pd.read_csv('Leadville_Lake_County_Airport.csv')\n",
    "\n",
    "# creates a MONTH column and TAVG column\n",
    "df['MONTH'] = pd.to_datetime(df['DATE']).dt.strftime('%B')\n",
    "df['TAVG'] = df[['TMAX', 'TMIN']].mean(axis=1)\n",
    "\n",
    "# creates dataframe with only the columns needed for the assignment\n",
    "df_main = df[['MONTH', 'PRCP', 'TAVG']]\n",
    "\n",
    "df_main"
   ]
  },
  {
   "cell_type": "code",
   "execution_count": 4,
   "metadata": {},
   "outputs": [
    {
     "data": {
      "text/html": [
       "<div>\n",
       "<style scoped>\n",
       "    .dataframe tbody tr th:only-of-type {\n",
       "        vertical-align: middle;\n",
       "    }\n",
       "\n",
       "    .dataframe tbody tr th {\n",
       "        vertical-align: top;\n",
       "    }\n",
       "\n",
       "    .dataframe thead th {\n",
       "        text-align: right;\n",
       "    }\n",
       "</style>\n",
       "<table border=\"1\" class=\"dataframe\">\n",
       "  <thead>\n",
       "    <tr style=\"text-align: right;\">\n",
       "      <th></th>\n",
       "      <th>MONTH</th>\n",
       "      <th>PRCP</th>\n",
       "    </tr>\n",
       "  </thead>\n",
       "  <tbody>\n",
       "    <tr>\n",
       "      <th>0</th>\n",
       "      <td>January</td>\n",
       "      <td>16.2</td>\n",
       "    </tr>\n",
       "    <tr>\n",
       "      <th>1</th>\n",
       "      <td>February</td>\n",
       "      <td>35.2</td>\n",
       "    </tr>\n",
       "    <tr>\n",
       "      <th>2</th>\n",
       "      <td>March</td>\n",
       "      <td>23.1</td>\n",
       "    </tr>\n",
       "    <tr>\n",
       "      <th>3</th>\n",
       "      <td>April</td>\n",
       "      <td>62.8</td>\n",
       "    </tr>\n",
       "    <tr>\n",
       "      <th>4</th>\n",
       "      <td>May</td>\n",
       "      <td>50.4</td>\n",
       "    </tr>\n",
       "    <tr>\n",
       "      <th>5</th>\n",
       "      <td>June</td>\n",
       "      <td>25.4</td>\n",
       "    </tr>\n",
       "    <tr>\n",
       "      <th>6</th>\n",
       "      <td>July</td>\n",
       "      <td>42.4</td>\n",
       "    </tr>\n",
       "    <tr>\n",
       "      <th>7</th>\n",
       "      <td>August</td>\n",
       "      <td>15.1</td>\n",
       "    </tr>\n",
       "    <tr>\n",
       "      <th>8</th>\n",
       "      <td>September</td>\n",
       "      <td>29.6</td>\n",
       "    </tr>\n",
       "    <tr>\n",
       "      <th>9</th>\n",
       "      <td>October</td>\n",
       "      <td>14.7</td>\n",
       "    </tr>\n",
       "    <tr>\n",
       "      <th>10</th>\n",
       "      <td>November</td>\n",
       "      <td>53.3</td>\n",
       "    </tr>\n",
       "    <tr>\n",
       "      <th>11</th>\n",
       "      <td>December</td>\n",
       "      <td>33.7</td>\n",
       "    </tr>\n",
       "  </tbody>\n",
       "</table>\n",
       "</div>"
      ],
      "text/plain": [
       "        MONTH  PRCP\n",
       "0     January  16.2\n",
       "1    February  35.2\n",
       "2       March  23.1\n",
       "3       April  62.8\n",
       "4         May  50.4\n",
       "5        June  25.4\n",
       "6        July  42.4\n",
       "7      August  15.1\n",
       "8   September  29.6\n",
       "9     October  14.7\n",
       "10   November  53.3\n",
       "11   December  33.7"
      ]
     },
     "execution_count": 4,
     "metadata": {},
     "output_type": "execute_result"
    }
   ],
   "source": [
    "# group by month and find sum of each column\n",
    "df_monthsum = df_main.groupby('MONTH').sum()\n",
    "\n",
    "# reindex with sorted date column and drop TAVG for plot\n",
    "new_index = ['January', 'February', 'March', 'April', 'May', 'June', 'July', \n",
    "             'August', 'September', 'October', 'November', 'December']\n",
    "\n",
    "\n",
    "df_monthsum = df_monthsum.reindex(new_index).reset_index().drop(columns=['TAVG'])\n",
    "\n",
    "df_monthsum"
   ]
  },
  {
   "cell_type": "code",
   "execution_count": 5,
   "metadata": {},
   "outputs": [
    {
     "data": {
      "image/png": "[encoded data removed]",
      "text/plain": [
       "<Figure size 1080x576 with 1 Axes>"
      ]
     },
     "metadata": {
      "needs_background": "light"
     },
     "output_type": "display_data"
    }
   ],
   "source": [
    "# sets style of plot\n",
    "plt.figure(figsize=(15,8))\n",
    "sns.set(style='dark')\n",
    "sns.set_context('talk')\n",
    "\n",
    "# plots bargraph from dataframe\n",
    "# sns.barplot(x='MONTH',\n",
    "#             y='PRCP',\n",
    "#             data=df_monthsum)\n",
    "\n",
    "# plots/formats labels\n",
    "plt.title('Leadville Lake County Airport Monthly Precipitation: Sep 1st - Aug 31st for 2014-2015',\n",
    "          weight='bold',\n",
    "          y=1.03).set_fontsize('19')\n",
    "plt.xlabel('Month')\n",
    "plt.ylabel('Precipitation (mm)')\n",
    "plt.xticks(rotation=45)\n",
    "plt.bar(df_monthsum['MONTH'], \n",
    "        df_monthsum['PRCP'], \n",
    "        align='center', \n",
    "        width=1, \n",
    "        edgecolor='black',\n",
    "        facecolor='#33A1C9')\n",
    "plt.grid(color='w', \n",
    "         linestyle='-', \n",
    "         linewidth=2, \n",
    "         axis='y')\n",
    "        \n",
    "\n",
    "plt.show()"
   ]
  },
  {
   "cell_type": "code",
   "execution_count": 10,
   "metadata": {},
   "outputs": [
    {
     "data": {
      "text/plain": [
       "401.9"
      ]
     },
     "execution_count": 10,
     "metadata": {},
     "output_type": "execute_result"
    }
   ],
   "source": [
    "round(df_monthsum['PRCP'].sum(), 2)"
   ]
  },
  {
   "cell_type": "code",
   "execution_count": 6,
   "metadata": {},
   "outputs": [
    {
     "data": {
      "text/html": [
       "<div>\n",
       "<style scoped>\n",
       "    .dataframe tbody tr th:only-of-type {\n",
       "        vertical-align: middle;\n",
       "    }\n",
       "\n",
       "    .dataframe tbody tr th {\n",
       "        vertical-align: top;\n",
       "    }\n",
       "\n",
       "    .dataframe thead th {\n",
       "        text-align: right;\n",
       "    }\n",
       "</style>\n",
       "<table border=\"1\" class=\"dataframe\">\n",
       "  <thead>\n",
       "    <tr style=\"text-align: right;\">\n",
       "      <th></th>\n",
       "      <th>MONTH</th>\n",
       "      <th>PRCP</th>\n",
       "      <th>TAVG</th>\n",
       "    </tr>\n",
       "  </thead>\n",
       "  <tbody>\n",
       "    <tr>\n",
       "      <th>30</th>\n",
       "      <td>October</td>\n",
       "      <td>0.3</td>\n",
       "      <td>2.00</td>\n",
       "    </tr>\n",
       "    <tr>\n",
       "      <th>31</th>\n",
       "      <td>October</td>\n",
       "      <td>1.3</td>\n",
       "      <td>0.65</td>\n",
       "    </tr>\n",
       "    <tr>\n",
       "      <th>38</th>\n",
       "      <td>October</td>\n",
       "      <td>3.3</td>\n",
       "      <td>3.35</td>\n",
       "    </tr>\n",
       "    <tr>\n",
       "      <th>39</th>\n",
       "      <td>October</td>\n",
       "      <td>0.8</td>\n",
       "      <td>3.05</td>\n",
       "    </tr>\n",
       "    <tr>\n",
       "      <th>41</th>\n",
       "      <td>October</td>\n",
       "      <td>5.6</td>\n",
       "      <td>0.60</td>\n",
       "    </tr>\n",
       "    <tr>\n",
       "      <th>...</th>\n",
       "      <td>...</td>\n",
       "      <td>...</td>\n",
       "      <td>...</td>\n",
       "    </tr>\n",
       "    <tr>\n",
       "      <th>258</th>\n",
       "      <td>May</td>\n",
       "      <td>0.5</td>\n",
       "      <td>3.10</td>\n",
       "    </tr>\n",
       "    <tr>\n",
       "      <th>259</th>\n",
       "      <td>May</td>\n",
       "      <td>7.1</td>\n",
       "      <td>3.65</td>\n",
       "    </tr>\n",
       "    <tr>\n",
       "      <th>260</th>\n",
       "      <td>May</td>\n",
       "      <td>0.5</td>\n",
       "      <td>2.00</td>\n",
       "    </tr>\n",
       "    <tr>\n",
       "      <th>264</th>\n",
       "      <td>May</td>\n",
       "      <td>3.0</td>\n",
       "      <td>1.45</td>\n",
       "    </tr>\n",
       "    <tr>\n",
       "      <th>265</th>\n",
       "      <td>May</td>\n",
       "      <td>1.5</td>\n",
       "      <td>2.00</td>\n",
       "    </tr>\n",
       "  </tbody>\n",
       "</table>\n",
       "<p>88 rows × 3 columns</p>\n",
       "</div>"
      ],
      "text/plain": [
       "       MONTH  PRCP  TAVG\n",
       "30   October   0.3  2.00\n",
       "31   October   1.3  0.65\n",
       "38   October   3.3  3.35\n",
       "39   October   0.8  3.05\n",
       "41   October   5.6  0.60\n",
       "..       ...   ...   ...\n",
       "258      May   0.5  3.10\n",
       "259      May   7.1  3.65\n",
       "260      May   0.5  2.00\n",
       "264      May   3.0  1.45\n",
       "265      May   1.5  2.00\n",
       "\n",
       "[88 rows x 3 columns]"
      ]
     },
     "execution_count": 6,
     "metadata": {},
     "output_type": "execute_result"
    }
   ],
   "source": [
    "df_mainfilter = df_main[(df_main['TAVG'] <= 4) & (df_main['PRCP'] > 0)]\n",
    "\n",
    "df_mainfilter"
   ]
  },
  {
   "cell_type": "code",
   "execution_count": 7,
   "metadata": {},
   "outputs": [
    {
     "data": {
      "text/plain": [
       "February    15\n",
       "December    13\n",
       "November    12\n",
       "May         11\n",
       "April       11\n",
       "January      9\n",
       "March        9\n",
       "October      8\n",
       "Name: MONTH, dtype: int64"
      ]
     },
     "execution_count": 7,
     "metadata": {},
     "output_type": "execute_result"
    }
   ],
   "source": [
    "df_mainfilter['MONTH'].value_counts()"
   ]
  },
  {
   "cell_type": "code",
   "execution_count": 8,
   "metadata": {},
   "outputs": [
    {
     "data": {
      "text/plain": [
       "88"
      ]
     },
     "execution_count": 8,
     "metadata": {},
     "output_type": "execute_result"
    }
   ],
   "source": [
    "len(df_mainfilter)"
   ]
  },
  {
   "cell_type": "code",
   "execution_count": 11,
   "metadata": {},
   "outputs": [
    {
     "data": {
      "text/plain": [
       "24.11"
      ]
     },
     "execution_count": 11,
     "metadata": {},
     "output_type": "execute_result"
    }
   ],
   "source": [
    "round(len(df_mainfilter)/len(df_main) * 100, 2)"
   ]
  },
  {
   "cell_type": "markdown",
   "metadata": {},
   "source": [
    "# Questions"
   ]
  },
  {
   "cell_type": "markdown",
   "metadata": {},
   "source": [
    "**2A. Which month has the greatest precipitation, and which has the least?**<br>\n",
    "The highest month of precipitation was recorded in April with 62.8mm of precipitation and the lowest month of precipitation was recorded in October with 14.7mm of precipitation.<br>\n",
    "\n",
    "**2B. What is the total annual precipitation at your site?**<br>\n",
    "The total annual precipitation at Leadvillie Lake County airport amounted to 401.9mm.\n",
    "\n",
    "**2C. Using days with precipitation greater than 0, and average daily temperatures of 4\n",
    "degrees C or less, as a threshold for a probability of 0.5 or more that the precipitation will\n",
    "be snow, determine how many days this could occur, and what percentage of the total days\n",
    "it could occur**<br>\n",
    "The number of days where 50% chance of snow could occur are 88 and the percentage of this occuring in the year is 24.11%. \n",
    "\n",
    "**3. The DFIR (Double Fence Intercomparison Reference) fence and precipitation gauge\n",
    "combination was designed to mimic what type of natural condition for sheltering of a precipitation\n",
    "gauge, particularly in places with harsh climatic conditions?**<br>'\n",
    "Double fences are used to mimic natural bush sheltering and also provide the best estimate of \"ground true\" precipitation. Some areas being studied don't have natural bush sheltering due to their harsh climatic conditions.\n",
    "\n",
    "**4. What types of losses must solid precipitation measurements be adjusted for? List three types.**<br>\n",
    "The three types of losses that solid precipitation must be adjusted for are, wetting loss, evaporation loss, and wind induced undercatch.\n",
    "\n",
    "**5. What does the term “trace” precipitation mean?**<br>\n",
    "Trace precipitation is the amount of precipitation that is greater than zero but too small to be measured with standard units. In the report trace precipitation must be considered a non-zero value when adjusting precipitation data. \n",
    "\n",
    "**6. When were the first precipitation intercomparison projects carried out, as in what century?**<br>\n",
    "The first precipitation intercomparison projects were carried out at the end of the 17th century.\n",
    "\n",
    "**7. What percentage of actual snowfall does a DFIR gauge catch? This can be a range of values.**<br>\n",
    "The DFIR gauge catches 92% to 96% of actual snowfall.\n"
   ]
  }
 ],
 "metadata": {
  "kernelspec": {
   "display_name": "Python 3",
   "language": "python",
   "name": "python3"
  },
  "language_info": {
   "codemirror_mode": {
    "name": "ipython",
    "version": 3
   },
   "file_extension": ".py",
   "mimetype": "text/x-python",
   "name": "python",
   "nbconvert_exporter": "python",
   "pygments_lexer": "ipython3",
   "version": "3.7.6"
  }
 },
 "nbformat": 4,
 "nbformat_minor": 4
}
